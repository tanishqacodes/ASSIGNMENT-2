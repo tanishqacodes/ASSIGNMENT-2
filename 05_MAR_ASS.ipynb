{
  "nbformat": 4,
  "nbformat_minor": 0,
  "metadata": {
    "colab": {
      "provenance": [],
      "authorship_tag": "ABX9TyOt5iyOoG+6BEUQiiFD3npp",
      "include_colab_link": true
    },
    "kernelspec": {
      "name": "python3",
      "display_name": "Python 3"
    },
    "language_info": {
      "name": "python"
    }
  },
  "cells": [
    {
      "cell_type": "markdown",
      "metadata": {
        "id": "view-in-github",
        "colab_type": "text"
      },
      "source": [
        "<a href=\"https://colab.research.google.com/github/tanishqacodes/ASSIGNMENT-2/blob/main/05_MAR_ASS.ipynb\" target=\"_parent\"><img src=\"https://colab.research.google.com/assets/colab-badge.svg\" alt=\"Open In Colab\"/></a>"
      ]
    },
    {
      "cell_type": "markdown",
      "source": [
        "### Q1. How can you create a Bokeh plot using Python code?\n",
        "Bokeh is an interactive visualization library for modern web browsers. It provides elegant, concise construction of versatile graphics, and affords high-performance interactivity over large or streaming datasets.\n",
        "\n",
        "1. Libraries/Modules import conventions. from bokeh. io import output_notebook, show. from bokeh. ...\n",
        "2. import bokeh. sampledata. # To download sample data for visualization. bokeh. ...\n",
        "3. Check version of bokeh installed. print(bokeh. __version__) # version:1.4.0."
      ],
      "metadata": {
        "id": "moOdoqWE_GX1"
      }
    },
    {
      "cell_type": "markdown",
      "source": [
        "### Q2. What are glyphs in Bokeh, and how can you add them to a Bokeh plot? Explain with an example.\n",
        "\n",
        "A glyph is a vectorized graphical shape or marker that is used to represent your data. A Few Categories of Glyphs: Marker: Shapes like circles, diamonds, squares and triangles. Effective for scatter and bubble charts. Line: Single, step and multi-line shapes."
      ],
      "metadata": {
        "id": "xm6xdc9KAa4B"
      }
    },
    {
      "cell_type": "code",
      "source": [
        "from bokeh.io import output_file\n",
        "from bokeh.plotting import figure, show\n",
        "x = [1, 2, 1]\n",
        "y = [1, 1, 2]\n",
        "output_file('first_glyphs.html', title='First Glyphs')\n",
        "fig = figure(title='My Coordinates',\n",
        "             plot_height=300, plot_width=300,\n",
        "             x_range=(0, 3), y_range=(0, 3),\n",
        "             toolbar_location=None)\n",
        "\n",
        "fig.circle(x=x, y=y, color='green', size=10, alpha=0.5)\n",
        "show(fig)"
      ],
      "metadata": {
        "id": "-rv2uZY__4NO"
      },
      "execution_count": 1,
      "outputs": []
    },
    {
      "cell_type": "markdown",
      "source": [
        "### Q3. How can you customize the appearance of a Bokeh plot, including the axes, title, and legend?\n"
      ],
      "metadata": {
        "id": "AVx7bN9bBBJX"
      }
    },
    {
      "cell_type": "code",
      "source": [
        "from bokeh.io import curdoc\n",
        "from bokeh.plotting import figure, show\n",
        "x = [1, 2, 3, 4, 5]\n",
        "y = [4, 5, 5, 7, 2]\n",
        "curdoc().theme = \"dark_minimal\"\n",
        "p = figure(sizing_mode=\"stretch_width\", max_width=500, height=250)\n",
        "p.line(x, y)\n",
        "show(p)"
      ],
      "metadata": {
        "id": "ttuI11OOBkgH"
      },
      "execution_count": 5,
      "outputs": []
    },
    {
      "cell_type": "markdown",
      "source": [
        "### Q4. What is a Bokeh server, and how can you use it to create interactive plots that can be updated in real time?\n",
        "\n",
        "* Bokeh server makes it easy to create interactive web applications that connect front-end UI events to running Python code. Bokeh creates high-level Python models, such as plots, ranges, axes, and glyphs, and then converts these objects to JSON to pass them to its client library, BokehJS.\n",
        "\n",
        "* Bokeh server makes it easy to create interactive web applications that connect front-end UI events to running Python code.\n",
        "\n",
        "* Bokeh creates high-level Python models, such as plots, ranges, axes, and glyphs, and then converts these objects to JSON to pass them to its client library, BokehJS."
      ],
      "metadata": {
        "id": "BIoOfDSkCWSH"
      }
    },
    {
      "cell_type": "markdown",
      "source": [
        "### Q5. How can you embed a Bokeh plot into a web page or dashboard using Flask or Django?\n",
        "\n",
        "Bokeh can generate complete HTML pages for Bokeh documents using the file_html() function. This function can create an HTML document from its own generic template or from a template you provide. These HTML files contain plot data and are fully portable while still providing interactive tools (pan, zoom, etc.) for your plot."
      ],
      "metadata": {
        "id": "8tChGEiWDAym"
      }
    }
  ]
}